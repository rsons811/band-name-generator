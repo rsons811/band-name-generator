{
 "cells": [
  {
   "cell_type": "markdown",
   "id": "41791024-69c9-4ade-8b3c-1adde3d4279d",
   "metadata": {},
   "source": [
    "# Band Name Generator"
   ]
  },
  {
   "cell_type": "code",
   "execution_count": 1,
   "id": "c55051e3-0f86-4eb8-9638-546be394b538",
   "metadata": {},
   "outputs": [
    {
     "name": "stdout",
     "output_type": "stream",
     "text": [
      "what is your band name?\n"
     ]
    },
    {
     "name": "stdin",
     "output_type": "stream",
     "text": [
      "what is your city name? ahmedabad\n",
      "what is your pet name? pitbull\n"
     ]
    },
    {
     "name": "stdout",
     "output_type": "stream",
     "text": [
      "ahmedabad pitbull\n"
     ]
    }
   ],
   "source": [
    "print(\"what is your band name?\")\n",
    "city=input(\"what is your city name?\")\n",
    "pet=input(\"what is your pet name?\")\n",
    "band_name = city +\" \"+pet\n",
    "print(band_name)"
   ]
  },
  {
   "cell_type": "code",
   "execution_count": null,
   "id": "a93b7a92-f9c6-446f-823c-b6fcb95d4893",
   "metadata": {},
   "outputs": [],
   "source": []
  }
 ],
 "metadata": {
  "kernelspec": {
   "display_name": "Python 3 (ipykernel)",
   "language": "python",
   "name": "python3"
  },
  "language_info": {
   "codemirror_mode": {
    "name": "ipython",
    "version": 3
   },
   "file_extension": ".py",
   "mimetype": "text/x-python",
   "name": "python",
   "nbconvert_exporter": "python",
   "pygments_lexer": "ipython3",
   "version": "3.11.7"
  }
 },
 "nbformat": 4,
 "nbformat_minor": 5
}
